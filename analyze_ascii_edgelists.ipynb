{
 "cells": [
  {
   "attachments": {},
   "cell_type": "markdown",
   "metadata": {},
   "source": [
    "Collect data from all folders"
   ]
  },
  {
   "cell_type": "code",
   "execution_count": 21,
   "metadata": {},
   "outputs": [
    {
     "name": "stdout",
     "output_type": "stream",
     "text": [
      "  Pair Solution         Description Timeout                 Time\n",
      "0    7      794  baseline of ourDAL     300  2023.03.29-10.58.27\n",
      "1   13      759  baseline of ourDAL     300  2023.03.29-10.38.25\n",
      "2    3      745  baseline of ourDAL     300  2023.03.29-10.48.26\n",
      "3    9     1127  baseline of ourDAL     300  2023.03.29-11.03.27\n",
      "4    1      463  baseline of ourDAL     300  2023.03.29-10.43.26\n",
      "5    5      871  baseline of ourDAL     300  2023.03.29-10.53.27\n",
      "6   11     1540  baseline of ourDAL     300  2023.03.29-10.33.17\n",
      "7   11     1519             TIMEOUT       0  2023.03.28-21.14.10\n"
     ]
    }
   ],
   "source": [
    "import os\n",
    "import pandas as pd\n",
    "\n",
    "# Define the path of the folder \"edgelists.\"\n",
    "paths = [\n",
    "        \"/home/porro/McSplit/ascii_edgelists\", \n",
    "         \"/home/licata/McSplit/ascii_edgelists\"\n",
    "         ]\n",
    "\n",
    "data = []\n",
    "\n",
    "# loop over each pair sub-folder\n",
    "for path in paths:\n",
    "    for pair_folder in os.listdir(path):\n",
    "        if os.path.isdir(os.path.join(path, pair_folder)):\n",
    "            pair_number = pair_folder.split(\"_\")[1]\n",
    "\n",
    "            # loop over each result-dal file in the pair sub-folder\n",
    "            for result_file in os.listdir(os.path.join(path, pair_folder)):\n",
    "                if result_file.startswith(\"result-dal-\"):\n",
    "                    #print(f\"\\nResult file: {result_file}\")\n",
    "                    \n",
    "                    # open the result-dal file and extract the solution, description and timeout\n",
    "                    with open(os.path.join(path, pair_folder, result_file), \"r\") as f:\n",
    "                        content = f.read()\n",
    "                        lines = content.split(\"\\n\")\n",
    "                        solution_line = [line for line in lines if line.startswith(\"Solution\")]\n",
    "                        if len(solution_line) == 0:\n",
    "                            solution = \"No solution\"\n",
    "                            description = \"No solution\"\n",
    "                            timeout = \"No solution\"\n",
    "                            time = \"No solution\"\n",
    "                        else:\n",
    "                            solution = [line for line in lines if line.startswith(\"Solution\")][0].split(\" \")[-1]\n",
    "                            description = lines[-3]\n",
    "                            timeout = lines[-2].split(\" \")[-1]\n",
    "                            time = result_file[11:-4]\n",
    "                        data.append({\"Pair\":pair_number, \"Solution\": solution, \"Description\": description, \"Timeout\": timeout, \"Time\":time})\n",
    "\n",
    "df = pd.DataFrame(data)\n",
    "pd.set_option('display.width', 240)\n",
    "print(df)"
   ]
  }
 ],
 "metadata": {
  "kernelspec": {
   "display_name": ".venv",
   "language": "python",
   "name": "python3"
  },
  "language_info": {
   "codemirror_mode": {
    "name": "ipython",
    "version": 3
   },
   "file_extension": ".py",
   "mimetype": "text/x-python",
   "name": "python",
   "nbconvert_exporter": "python",
   "pygments_lexer": "ipython3",
   "version": "3.8.10"
  },
  "orig_nbformat": 4
 },
 "nbformat": 4,
 "nbformat_minor": 2
}
